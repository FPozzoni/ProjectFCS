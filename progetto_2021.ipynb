{
  "cells": [
    {
      "cell_type": "markdown",
      "metadata": {
        "id": "4MC-OULsezhe"
      },
      "source": [
        "You have to work on the files:\n",
        "*  [Books](https://github.com/gdv/foundationsCS/raw/master/progetti/2021/Books.csv.gz)\n",
        "*  [Book ratings](https://github.com/gdv/foundationsCS/raw/master/progetti/2021/Book-Ratings.csv.gz)\n",
        "*  [Users](https://github.com/gdv/foundationsCS/raw/master/progetti/2021/Users.csv.gz)\n",
        "*  [Goodbooks books](https://github.com/gdv/foundationsCS/raw/master/progetti/2021/goodbooks.csv.gz)\n",
        "*  [Goodbooks ratings](https://github.com/gdv/foundationsCS/raw/master/progetti/2021/goodbooks-ratings.csv.gz)\n",
        "\n",
        "### Notes\n",
        "\n",
        "1.    It is mandatory to use GitHub for developing the project.\n",
        "1.    The project must be a jupyter notebook.\n",
        "1.    There is no restriction on the libraries that can be used, nor on the Python version.\n",
        "1.    To read those files, you need to use the `encoding = 'latin-1'` option.\n",
        "1.    All questions on the project **must** be asked in a public channel on [Zulip](https://focs.zulipchat.com), otherwise no  answer will be given."
      ]
    },
    {
      "cell_type": "code",
      "execution_count": null,
      "metadata": {
        "id": "oTmE35CEezhh"
      },
      "outputs": [],
      "source": [
        "import pandas as pd\n",
        "import numpy as np\n",
        "import re"
      ]
    },
    {
      "cell_type": "code",
      "source": [
        "books = pd.read_csv(\"https://github.com/gdv/foundationsCS/raw/master/progetti/2021/Books.csv.gz\", sep=';', encoding = 'latin-1')\n",
        "bRatings = pd.read_csv(\"https://github.com/gdv/foundationsCS/raw/master/progetti/2021/Book-Ratings.csv.gz\", sep=';', encoding = 'latin-1')\n",
        "users = pd.read_csv(\"https://github.com/gdv/foundationsCS/raw/master/progetti/2021/Users.csv.gz\", sep=';', encoding = 'latin-1')\n",
        "goodBooks = pd.read_csv(\"https://github.com/gdv/foundationsCS/raw/master/progetti/2021/goodbooks.csv.gz\", sep=',', encoding = 'latin-1')\n",
        "gbRatings = pd.read_csv(\"https://github.com/gdv/foundationsCS/raw/master/progetti/2021/goodbooks-ratings.csv.gz\", sep=',', encoding = 'latin-1')"
      ],
      "metadata": {
        "id": "uVfLGDgIxy0b",
        "colab": {
          "base_uri": "https://localhost:8080/"
        },
        "outputId": "5dd9918c-8670-41f8-f10a-c9e1ed0b5f88"
      },
      "execution_count": null,
      "outputs": [
        {
          "output_type": "stream",
          "name": "stderr",
          "text": [
            "/usr/local/lib/python3.7/dist-packages/IPython/core/interactiveshell.py:2882: DtypeWarning: Columns (3) have mixed types.Specify dtype option on import or set low_memory=False.\n",
            "  exec(code_obj, self.user_global_ns, self.user_ns)\n"
          ]
        }
      ]
    },
    {
      "cell_type": "code",
      "execution_count": null,
      "metadata": {
        "id": "APHtEW5Vezhh"
      },
      "outputs": [],
      "source": [
        "books.head()"
      ]
    },
    {
      "cell_type": "code",
      "execution_count": null,
      "metadata": {
        "id": "e6fGNyteezhi"
      },
      "outputs": [],
      "source": [
        "bRatings.head()"
      ]
    },
    {
      "cell_type": "code",
      "execution_count": null,
      "metadata": {
        "id": "t_li0cjpezhi"
      },
      "outputs": [],
      "source": [
        "users.head()"
      ]
    },
    {
      "cell_type": "code",
      "execution_count": null,
      "metadata": {
        "id": "5NPLINN4ezhi"
      },
      "outputs": [],
      "source": [
        "goodBooks.head()"
      ]
    },
    {
      "cell_type": "code",
      "execution_count": null,
      "metadata": {
        "id": "Ho8FKhruezhj"
      },
      "outputs": [],
      "source": [
        "gbRatings.head()"
      ]
    },
    {
      "cell_type": "code",
      "execution_count": null,
      "metadata": {
        "id": "xjHYTgMAezhj"
      },
      "outputs": [],
      "source": [
        "goodBooks['original_publication_year']=goodBooks['original_publication_year'].astype(int)\n",
        "goodBooks['isbn13']=goodBooks['isbn13'].astype(float).astype(int)"
      ]
    },
    {
      "cell_type": "code",
      "execution_count": null,
      "metadata": {
        "id": "8HjgFzxQezhk"
      },
      "outputs": [],
      "source": [
        "users[\"Location\"]"
      ]
    },
    {
      "cell_type": "markdown",
      "metadata": {
        "id": "XLgxcBYmezhl"
      },
      "source": [
        "### 1. Normalize the location field of *Users* dataset, splitting into city, region, country."
      ]
    },
    {
      "cell_type": "code",
      "source": [
        "# sfruttiamo come è costruita la colonna Users, con separatore la virgola\n",
        "occ = users[\"Location\"].str.split(\",\", n = 2, expand = True)\n",
        "users[\"City\"]= occ[0]\n",
        "users[\"Region\"]= occ[1]\n",
        "users[\"Country\"]= occ[2]\n",
        "users"
      ],
      "metadata": {
        "id": "7qTqn8OcKCPM"
      },
      "execution_count": null,
      "outputs": []
    },
    {
      "cell_type": "code",
      "source": [
        "rows = users.Location.size\n",
        "conta = 0\n",
        "for line in users.Location:\n",
        "  occ = re.finditer(',',line)\n",
        "  count = 0\n",
        "  for match in occ:\n",
        "    count +=1\n",
        "  if count!=2:\n",
        "    conta +=1\n",
        "print(f\"percentuale diversi={round((conta/rows)*100,3)}%, numero={conta}, totale={rows}\")"
      ],
      "metadata": {
        "colab": {
          "base_uri": "https://localhost:8080/"
        },
        "id": "Bbn03ScD43N4",
        "outputId": "7cc2fd4f-9a86-40cb-fdff-8a711bc9410d"
      },
      "execution_count": null,
      "outputs": [
        {
          "output_type": "stream",
          "name": "stdout",
          "text": [
            "percentuale diversi=0.541%, numero=1510, totale=278858\n"
          ]
        }
      ]
    },
    {
      "cell_type": "markdown",
      "metadata": {
        "id": "9aE4rDIgezhl"
      },
      "source": [
        "### 2. For each book in the *Books* dataset, compute its average rating."
      ]
    },
    {
      "cell_type": "code",
      "source": [
        "joinBookRatings = pd.merge(books, bRatings, on='ISBN')\n",
        "joinBookRatings.head()"
      ],
      "metadata": {
        "id": "rdoDzIBBH4h8"
      },
      "execution_count": null,
      "outputs": []
    },
    {
      "cell_type": "code",
      "source": [
        "avgRatings = joinBookRatings.groupby(['ISBN','Book-Title','Book-Author','Year-Of-Publication','Publisher'], as_index=False)['Book-Rating'].mean()[['ISBN','Book-Title','Book-Author','Year-Of-Publication','Publisher','Book-Rating']]\n",
        "avgRatings.rename({'Book-Rating': 'Media-Rating'}, axis=1, inplace=True)\n",
        "avgRatings"
      ],
      "metadata": {
        "id": "kWe-roVVSclp"
      },
      "execution_count": null,
      "outputs": []
    },
    {
      "cell_type": "markdown",
      "metadata": {
        "id": "Q6dGRbORezhl"
      },
      "source": [
        "### 3. For each book in the *GoodBooks* dataset, compute its average rating."
      ]
    },
    {
      "cell_type": "code",
      "source": [
        "goodBooks[['isbn', 'isbn13', 'authors', 'title', 'average_rating']].sort_values('average_rating',ascending=False)"
      ],
      "metadata": {
        "id": "JTQULOHGXEst",
        "colab": {
          "base_uri": "https://localhost:8080/",
          "height": 419
        },
        "outputId": "5fb333f4-1d00-49fd-f2b1-52e057d5816a"
      },
      "execution_count": null,
      "outputs": [
        {
          "output_type": "execute_result",
          "data": {
            "text/html": [
              "\n",
              "  <div id=\"df-f1745c64-1372-4bca-a6c7-d03060ae9cf7\">\n",
              "    <div class=\"colab-df-container\">\n",
              "      <div>\n",
              "<style scoped>\n",
              "    .dataframe tbody tr th:only-of-type {\n",
              "        vertical-align: middle;\n",
              "    }\n",
              "\n",
              "    .dataframe tbody tr th {\n",
              "        vertical-align: top;\n",
              "    }\n",
              "\n",
              "    .dataframe thead th {\n",
              "        text-align: right;\n",
              "    }\n",
              "</style>\n",
              "<table border=\"1\" class=\"dataframe\">\n",
              "  <thead>\n",
              "    <tr style=\"text-align: right;\">\n",
              "      <th></th>\n",
              "      <th>isbn</th>\n",
              "      <th>isbn13</th>\n",
              "      <th>authors</th>\n",
              "      <th>title</th>\n",
              "      <th>average_rating</th>\n",
              "    </tr>\n",
              "  </thead>\n",
              "  <tbody>\n",
              "    <tr>\n",
              "      <th>24</th>\n",
              "      <td>545010225</td>\n",
              "      <td>9.780545e+12</td>\n",
              "      <td>J.K. Rowling, Mary GrandPrÃ©</td>\n",
              "      <td>Harry Potter and the Deathly Hallows (Harry Po...</td>\n",
              "      <td>4.61</td>\n",
              "    </tr>\n",
              "    <tr>\n",
              "      <th>26</th>\n",
              "      <td>439785960</td>\n",
              "      <td>9.780440e+12</td>\n",
              "      <td>J.K. Rowling, Mary GrandPrÃ©</td>\n",
              "      <td>Harry Potter and the Half-Blood Prince (Harry ...</td>\n",
              "      <td>4.54</td>\n",
              "    </tr>\n",
              "    <tr>\n",
              "      <th>23</th>\n",
              "      <td>439139600</td>\n",
              "      <td>9.780439e+12</td>\n",
              "      <td>J.K. Rowling, Mary GrandPrÃ©</td>\n",
              "      <td>Harry Potter and the Goblet of Fire (Harry Pot...</td>\n",
              "      <td>4.53</td>\n",
              "    </tr>\n",
              "    <tr>\n",
              "      <th>17</th>\n",
              "      <td>043965548X</td>\n",
              "      <td>9.780440e+12</td>\n",
              "      <td>J.K. Rowling, Mary GrandPrÃ©, Rufus Beck</td>\n",
              "      <td>Harry Potter and the Prisoner of Azkaban (Harr...</td>\n",
              "      <td>4.53</td>\n",
              "    </tr>\n",
              "    <tr>\n",
              "      <th>20</th>\n",
              "      <td>439358078</td>\n",
              "      <td>9.780439e+12</td>\n",
              "      <td>J.K. Rowling, Mary GrandPrÃ©</td>\n",
              "      <td>Harry Potter and the Order of the Phoenix (Har...</td>\n",
              "      <td>4.46</td>\n",
              "    </tr>\n",
              "    <tr>\n",
              "      <th>...</th>\n",
              "      <td>...</td>\n",
              "      <td>...</td>\n",
              "      <td>...</td>\n",
              "      <td>...</td>\n",
              "      <td>...</td>\n",
              "    </tr>\n",
              "    <tr>\n",
              "      <th>33</th>\n",
              "      <td>1612130291</td>\n",
              "      <td>9.781612e+12</td>\n",
              "      <td>E.L. James</td>\n",
              "      <td>Fifty Shades of Grey (Fifty Shades, #1)</td>\n",
              "      <td>3.67</td>\n",
              "    </tr>\n",
              "    <tr>\n",
              "      <th>27</th>\n",
              "      <td>140283331</td>\n",
              "      <td>9.780140e+12</td>\n",
              "      <td>William Golding</td>\n",
              "      <td>Lord of the Flies</td>\n",
              "      <td>3.64</td>\n",
              "    </tr>\n",
              "    <tr>\n",
              "      <th>2</th>\n",
              "      <td>316015849</td>\n",
              "      <td>9.780316e+12</td>\n",
              "      <td>Stephenie Meyer</td>\n",
              "      <td>Twilight (Twilight, #1)</td>\n",
              "      <td>3.57</td>\n",
              "    </tr>\n",
              "    <tr>\n",
              "      <th>48</th>\n",
              "      <td>316160199</td>\n",
              "      <td>9.780316e+12</td>\n",
              "      <td>Stephenie Meyer</td>\n",
              "      <td>New Moon (Twilight, #2)</td>\n",
              "      <td>3.52</td>\n",
              "    </tr>\n",
              "    <tr>\n",
              "      <th>39</th>\n",
              "      <td>143038419</td>\n",
              "      <td>9.780143e+12</td>\n",
              "      <td>Elizabeth Gilbert</td>\n",
              "      <td>Eat, Pray, Love</td>\n",
              "      <td>3.51</td>\n",
              "    </tr>\n",
              "  </tbody>\n",
              "</table>\n",
              "<p>99 rows × 5 columns</p>\n",
              "</div>\n",
              "      <button class=\"colab-df-convert\" onclick=\"convertToInteractive('df-f1745c64-1372-4bca-a6c7-d03060ae9cf7')\"\n",
              "              title=\"Convert this dataframe to an interactive table.\"\n",
              "              style=\"display:none;\">\n",
              "        \n",
              "  <svg xmlns=\"http://www.w3.org/2000/svg\" height=\"24px\"viewBox=\"0 0 24 24\"\n",
              "       width=\"24px\">\n",
              "    <path d=\"M0 0h24v24H0V0z\" fill=\"none\"/>\n",
              "    <path d=\"M18.56 5.44l.94 2.06.94-2.06 2.06-.94-2.06-.94-.94-2.06-.94 2.06-2.06.94zm-11 1L8.5 8.5l.94-2.06 2.06-.94-2.06-.94L8.5 2.5l-.94 2.06-2.06.94zm10 10l.94 2.06.94-2.06 2.06-.94-2.06-.94-.94-2.06-.94 2.06-2.06.94z\"/><path d=\"M17.41 7.96l-1.37-1.37c-.4-.4-.92-.59-1.43-.59-.52 0-1.04.2-1.43.59L10.3 9.45l-7.72 7.72c-.78.78-.78 2.05 0 2.83L4 21.41c.39.39.9.59 1.41.59.51 0 1.02-.2 1.41-.59l7.78-7.78 2.81-2.81c.8-.78.8-2.07 0-2.86zM5.41 20L4 18.59l7.72-7.72 1.47 1.35L5.41 20z\"/>\n",
              "  </svg>\n",
              "      </button>\n",
              "      \n",
              "  <style>\n",
              "    .colab-df-container {\n",
              "      display:flex;\n",
              "      flex-wrap:wrap;\n",
              "      gap: 12px;\n",
              "    }\n",
              "\n",
              "    .colab-df-convert {\n",
              "      background-color: #E8F0FE;\n",
              "      border: none;\n",
              "      border-radius: 50%;\n",
              "      cursor: pointer;\n",
              "      display: none;\n",
              "      fill: #1967D2;\n",
              "      height: 32px;\n",
              "      padding: 0 0 0 0;\n",
              "      width: 32px;\n",
              "    }\n",
              "\n",
              "    .colab-df-convert:hover {\n",
              "      background-color: #E2EBFA;\n",
              "      box-shadow: 0px 1px 2px rgba(60, 64, 67, 0.3), 0px 1px 3px 1px rgba(60, 64, 67, 0.15);\n",
              "      fill: #174EA6;\n",
              "    }\n",
              "\n",
              "    [theme=dark] .colab-df-convert {\n",
              "      background-color: #3B4455;\n",
              "      fill: #D2E3FC;\n",
              "    }\n",
              "\n",
              "    [theme=dark] .colab-df-convert:hover {\n",
              "      background-color: #434B5C;\n",
              "      box-shadow: 0px 1px 3px 1px rgba(0, 0, 0, 0.15);\n",
              "      filter: drop-shadow(0px 1px 2px rgba(0, 0, 0, 0.3));\n",
              "      fill: #FFFFFF;\n",
              "    }\n",
              "  </style>\n",
              "\n",
              "      <script>\n",
              "        const buttonEl =\n",
              "          document.querySelector('#df-f1745c64-1372-4bca-a6c7-d03060ae9cf7 button.colab-df-convert');\n",
              "        buttonEl.style.display =\n",
              "          google.colab.kernel.accessAllowed ? 'block' : 'none';\n",
              "\n",
              "        async function convertToInteractive(key) {\n",
              "          const element = document.querySelector('#df-f1745c64-1372-4bca-a6c7-d03060ae9cf7');\n",
              "          const dataTable =\n",
              "            await google.colab.kernel.invokeFunction('convertToInteractive',\n",
              "                                                     [key], {});\n",
              "          if (!dataTable) return;\n",
              "\n",
              "          const docLinkHtml = 'Like what you see? Visit the ' +\n",
              "            '<a target=\"_blank\" href=https://colab.research.google.com/notebooks/data_table.ipynb>data table notebook</a>'\n",
              "            + ' to learn more about interactive tables.';\n",
              "          element.innerHTML = '';\n",
              "          dataTable['output_type'] = 'display_data';\n",
              "          await google.colab.output.renderOutput(dataTable, element);\n",
              "          const docLink = document.createElement('div');\n",
              "          docLink.innerHTML = docLinkHtml;\n",
              "          element.appendChild(docLink);\n",
              "        }\n",
              "      </script>\n",
              "    </div>\n",
              "  </div>\n",
              "  "
            ],
            "text/plain": [
              "          isbn  ...  average_rating\n",
              "24   545010225  ...            4.61\n",
              "26   439785960  ...            4.54\n",
              "23   439139600  ...            4.53\n",
              "17  043965548X  ...            4.53\n",
              "20   439358078  ...            4.46\n",
              "..         ...  ...             ...\n",
              "33  1612130291  ...            3.67\n",
              "27   140283331  ...            3.64\n",
              "2    316015849  ...            3.57\n",
              "48   316160199  ...            3.52\n",
              "39   143038419  ...            3.51\n",
              "\n",
              "[99 rows x 5 columns]"
            ]
          },
          "metadata": {},
          "execution_count": 55
        }
      ]
    },
    {
      "cell_type": "code",
      "execution_count": null,
      "metadata": {
        "id": "3h5hSbDkezhm",
        "colab": {
          "base_uri": "https://localhost:8080/",
          "height": 419
        },
        "outputId": "71f87eda-e4a8-4037-b679-0ab3b5adb2d8"
      },
      "outputs": [
        {
          "output_type": "execute_result",
          "data": {
            "text/html": [
              "\n",
              "  <div id=\"df-9b4d2edd-7eff-4f26-a210-3ff18e2c0068\">\n",
              "    <div class=\"colab-df-container\">\n",
              "      <div>\n",
              "<style scoped>\n",
              "    .dataframe tbody tr th:only-of-type {\n",
              "        vertical-align: middle;\n",
              "    }\n",
              "\n",
              "    .dataframe tbody tr th {\n",
              "        vertical-align: top;\n",
              "    }\n",
              "\n",
              "    .dataframe thead th {\n",
              "        text-align: right;\n",
              "    }\n",
              "</style>\n",
              "<table border=\"1\" class=\"dataframe\">\n",
              "  <thead>\n",
              "    <tr style=\"text-align: right;\">\n",
              "      <th></th>\n",
              "      <th>isbn</th>\n",
              "      <th>isbn13</th>\n",
              "      <th>authors</th>\n",
              "      <th>title</th>\n",
              "      <th>average_rating</th>\n",
              "      <th>rating_calcolato</th>\n",
              "    </tr>\n",
              "  </thead>\n",
              "  <tbody>\n",
              "    <tr>\n",
              "      <th>24</th>\n",
              "      <td>545010225</td>\n",
              "      <td>9.780545e+12</td>\n",
              "      <td>J.K. Rowling, Mary GrandPrÃ©</td>\n",
              "      <td>Harry Potter and the Deathly Hallows (Harry Po...</td>\n",
              "      <td>4.61</td>\n",
              "      <td>4.612756</td>\n",
              "    </tr>\n",
              "    <tr>\n",
              "      <th>26</th>\n",
              "      <td>439785960</td>\n",
              "      <td>9.780440e+12</td>\n",
              "      <td>J.K. Rowling, Mary GrandPrÃ©</td>\n",
              "      <td>Harry Potter and the Half-Blood Prince (Harry ...</td>\n",
              "      <td>4.54</td>\n",
              "      <td>4.537725</td>\n",
              "    </tr>\n",
              "    <tr>\n",
              "      <th>17</th>\n",
              "      <td>043965548X</td>\n",
              "      <td>9.780440e+12</td>\n",
              "      <td>J.K. Rowling, Mary GrandPrÃ©, Rufus Beck</td>\n",
              "      <td>Harry Potter and the Prisoner of Azkaban (Harr...</td>\n",
              "      <td>4.53</td>\n",
              "      <td>4.527866</td>\n",
              "    </tr>\n",
              "    <tr>\n",
              "      <th>23</th>\n",
              "      <td>439139600</td>\n",
              "      <td>9.780439e+12</td>\n",
              "      <td>J.K. Rowling, Mary GrandPrÃ©</td>\n",
              "      <td>Harry Potter and the Goblet of Fire (Harry Pot...</td>\n",
              "      <td>4.53</td>\n",
              "      <td>4.525950</td>\n",
              "    </tr>\n",
              "    <tr>\n",
              "      <th>20</th>\n",
              "      <td>439358078</td>\n",
              "      <td>9.780439e+12</td>\n",
              "      <td>J.K. Rowling, Mary GrandPrÃ©</td>\n",
              "      <td>Harry Potter and the Order of the Phoenix (Har...</td>\n",
              "      <td>4.46</td>\n",
              "      <td>4.463372</td>\n",
              "    </tr>\n",
              "    <tr>\n",
              "      <th>...</th>\n",
              "      <td>...</td>\n",
              "      <td>...</td>\n",
              "      <td>...</td>\n",
              "      <td>...</td>\n",
              "      <td>...</td>\n",
              "      <td>...</td>\n",
              "    </tr>\n",
              "    <tr>\n",
              "      <th>33</th>\n",
              "      <td>1612130291</td>\n",
              "      <td>9.781612e+12</td>\n",
              "      <td>E.L. James</td>\n",
              "      <td>Fifty Shades of Grey (Fifty Shades, #1)</td>\n",
              "      <td>3.67</td>\n",
              "      <td>3.665074</td>\n",
              "    </tr>\n",
              "    <tr>\n",
              "      <th>27</th>\n",
              "      <td>140283331</td>\n",
              "      <td>9.780140e+12</td>\n",
              "      <td>William Golding</td>\n",
              "      <td>Lord of the Flies</td>\n",
              "      <td>3.64</td>\n",
              "      <td>3.642994</td>\n",
              "    </tr>\n",
              "    <tr>\n",
              "      <th>2</th>\n",
              "      <td>316015849</td>\n",
              "      <td>9.780316e+12</td>\n",
              "      <td>Stephenie Meyer</td>\n",
              "      <td>Twilight (Twilight, #1)</td>\n",
              "      <td>3.57</td>\n",
              "      <td>3.571067</td>\n",
              "    </tr>\n",
              "    <tr>\n",
              "      <th>48</th>\n",
              "      <td>316160199</td>\n",
              "      <td>9.780316e+12</td>\n",
              "      <td>Stephenie Meyer</td>\n",
              "      <td>New Moon (Twilight, #2)</td>\n",
              "      <td>3.52</td>\n",
              "      <td>3.521807</td>\n",
              "    </tr>\n",
              "    <tr>\n",
              "      <th>39</th>\n",
              "      <td>143038419</td>\n",
              "      <td>9.780143e+12</td>\n",
              "      <td>Elizabeth Gilbert</td>\n",
              "      <td>Eat, Pray, Love</td>\n",
              "      <td>3.51</td>\n",
              "      <td>3.505919</td>\n",
              "    </tr>\n",
              "  </tbody>\n",
              "</table>\n",
              "<p>99 rows × 6 columns</p>\n",
              "</div>\n",
              "      <button class=\"colab-df-convert\" onclick=\"convertToInteractive('df-9b4d2edd-7eff-4f26-a210-3ff18e2c0068')\"\n",
              "              title=\"Convert this dataframe to an interactive table.\"\n",
              "              style=\"display:none;\">\n",
              "        \n",
              "  <svg xmlns=\"http://www.w3.org/2000/svg\" height=\"24px\"viewBox=\"0 0 24 24\"\n",
              "       width=\"24px\">\n",
              "    <path d=\"M0 0h24v24H0V0z\" fill=\"none\"/>\n",
              "    <path d=\"M18.56 5.44l.94 2.06.94-2.06 2.06-.94-2.06-.94-.94-2.06-.94 2.06-2.06.94zm-11 1L8.5 8.5l.94-2.06 2.06-.94-2.06-.94L8.5 2.5l-.94 2.06-2.06.94zm10 10l.94 2.06.94-2.06 2.06-.94-2.06-.94-.94-2.06-.94 2.06-2.06.94z\"/><path d=\"M17.41 7.96l-1.37-1.37c-.4-.4-.92-.59-1.43-.59-.52 0-1.04.2-1.43.59L10.3 9.45l-7.72 7.72c-.78.78-.78 2.05 0 2.83L4 21.41c.39.39.9.59 1.41.59.51 0 1.02-.2 1.41-.59l7.78-7.78 2.81-2.81c.8-.78.8-2.07 0-2.86zM5.41 20L4 18.59l7.72-7.72 1.47 1.35L5.41 20z\"/>\n",
              "  </svg>\n",
              "      </button>\n",
              "      \n",
              "  <style>\n",
              "    .colab-df-container {\n",
              "      display:flex;\n",
              "      flex-wrap:wrap;\n",
              "      gap: 12px;\n",
              "    }\n",
              "\n",
              "    .colab-df-convert {\n",
              "      background-color: #E8F0FE;\n",
              "      border: none;\n",
              "      border-radius: 50%;\n",
              "      cursor: pointer;\n",
              "      display: none;\n",
              "      fill: #1967D2;\n",
              "      height: 32px;\n",
              "      padding: 0 0 0 0;\n",
              "      width: 32px;\n",
              "    }\n",
              "\n",
              "    .colab-df-convert:hover {\n",
              "      background-color: #E2EBFA;\n",
              "      box-shadow: 0px 1px 2px rgba(60, 64, 67, 0.3), 0px 1px 3px 1px rgba(60, 64, 67, 0.15);\n",
              "      fill: #174EA6;\n",
              "    }\n",
              "\n",
              "    [theme=dark] .colab-df-convert {\n",
              "      background-color: #3B4455;\n",
              "      fill: #D2E3FC;\n",
              "    }\n",
              "\n",
              "    [theme=dark] .colab-df-convert:hover {\n",
              "      background-color: #434B5C;\n",
              "      box-shadow: 0px 1px 3px 1px rgba(0, 0, 0, 0.15);\n",
              "      filter: drop-shadow(0px 1px 2px rgba(0, 0, 0, 0.3));\n",
              "      fill: #FFFFFF;\n",
              "    }\n",
              "  </style>\n",
              "\n",
              "      <script>\n",
              "        const buttonEl =\n",
              "          document.querySelector('#df-9b4d2edd-7eff-4f26-a210-3ff18e2c0068 button.colab-df-convert');\n",
              "        buttonEl.style.display =\n",
              "          google.colab.kernel.accessAllowed ? 'block' : 'none';\n",
              "\n",
              "        async function convertToInteractive(key) {\n",
              "          const element = document.querySelector('#df-9b4d2edd-7eff-4f26-a210-3ff18e2c0068');\n",
              "          const dataTable =\n",
              "            await google.colab.kernel.invokeFunction('convertToInteractive',\n",
              "                                                     [key], {});\n",
              "          if (!dataTable) return;\n",
              "\n",
              "          const docLinkHtml = 'Like what you see? Visit the ' +\n",
              "            '<a target=\"_blank\" href=https://colab.research.google.com/notebooks/data_table.ipynb>data table notebook</a>'\n",
              "            + ' to learn more about interactive tables.';\n",
              "          element.innerHTML = '';\n",
              "          dataTable['output_type'] = 'display_data';\n",
              "          await google.colab.output.renderOutput(dataTable, element);\n",
              "          const docLink = document.createElement('div');\n",
              "          docLink.innerHTML = docLinkHtml;\n",
              "          element.appendChild(docLink);\n",
              "        }\n",
              "      </script>\n",
              "    </div>\n",
              "  </div>\n",
              "  "
            ],
            "text/plain": [
              "          isbn        isbn13  ... average_rating rating_calcolato\n",
              "24   545010225  9.780545e+12  ...           4.61         4.612756\n",
              "26   439785960  9.780440e+12  ...           4.54         4.537725\n",
              "17  043965548X  9.780440e+12  ...           4.53         4.527866\n",
              "23   439139600  9.780439e+12  ...           4.53         4.525950\n",
              "20   439358078  9.780439e+12  ...           4.46         4.463372\n",
              "..         ...           ...  ...            ...              ...\n",
              "33  1612130291  9.781612e+12  ...           3.67         3.665074\n",
              "27   140283331  9.780140e+12  ...           3.64         3.642994\n",
              "2    316015849  9.780316e+12  ...           3.57         3.571067\n",
              "48   316160199  9.780316e+12  ...           3.52         3.521807\n",
              "39   143038419  9.780143e+12  ...           3.51         3.505919\n",
              "\n",
              "[99 rows x 6 columns]"
            ]
          },
          "metadata": {},
          "execution_count": 54
        }
      ],
      "source": [
        "goodBooks['rating_calcolato'] = (goodBooks['ratings_1']*1+goodBooks['ratings_2']*2+goodBooks['ratings_3']*3+goodBooks['ratings_4']*4+goodBooks['ratings_5']*5)/goodBooks['work_ratings_count']\n",
        "goodBooks[['isbn', 'isbn13', 'authors', 'title', 'average_rating','rating_calcolato']].sort_values('rating_calcolato',ascending=False)"
      ]
    },
    {
      "cell_type": "markdown",
      "metadata": {
        "id": "BF_zxTTZezhn"
      },
      "source": [
        "### 4. Merge together all rows sharing the same book title, author and publisher. We will call the resulting datset `merged books`. The books that have not been merged together will not appear in `merged books`."
      ]
    },
    {
      "cell_type": "code",
      "source": [
        "count = pd.DataFrame({'count'    : joinBookRatings.groupby( [ \"Book-Title\", \"Book-Author\", \"Publisher\"] ).size()}).reset_index()\n",
        "merged_books = count[count['count'] >1]"
      ],
      "metadata": {
        "id": "z2JyP4boStmF"
      },
      "execution_count": null,
      "outputs": []
    },
    {
      "cell_type": "code",
      "source": [
        "merged_books"
      ],
      "metadata": {
        "id": "zuOhSJwV94ty"
      },
      "execution_count": null,
      "outputs": []
    },
    {
      "cell_type": "markdown",
      "metadata": {
        "id": "jvTY61Hyezhn"
      },
      "source": [
        "### 5. For each book in `merged books` compute its average rating.\n",
        "\n",
        "The average is computed considering all books in `books` that have been merged."
      ]
    },
    {
      "cell_type": "code",
      "source": [
        "merged_books['Media-Rating'] = joinBookRatings.groupby(['Book-Title','Book-Author','Publisher'], as_index=False)['Book-Rating'].mean()['Book-Rating']"
      ],
      "metadata": {
        "id": "eGGNWozxUpUX"
      },
      "execution_count": null,
      "outputs": []
    },
    {
      "cell_type": "code",
      "source": [
        "merged_books"
      ],
      "metadata": {
        "id": "_hS2OtHM99iY"
      },
      "execution_count": null,
      "outputs": []
    },
    {
      "cell_type": "markdown",
      "metadata": {
        "id": "g_klcTlaezho"
      },
      "source": [
        "### 6. For each book in `merged books` compute the minimum and maximum of the average ratings over all corresponding books in the `books` dataset.\n",
        "\n",
        "Hence for each book in `merged books` we will have exactly two values (a minimum and a maximum)"
      ]
    },
    {
      "cell_type": "code",
      "source": [
        "df1 = pd.DataFrame({'Media-Rating':joinBookRatings.groupby(['Book-Title','Book-Author','Publisher','ISBN'])['Book-Rating'].mean()}).reset_index()\n",
        "merged_books['min'] = df1.groupby(['Book-Title','Book-Author','Publisher'], as_index=False)['Media-Rating'].min()['Media-Rating']\n",
        "merged_books['max'] = df1.groupby(['Book-Title','Book-Author','Publisher'], as_index=False)['Media-Rating'].max()['Media-Rating']"
      ],
      "metadata": {
        "id": "VgbAyISwnIV6"
      },
      "execution_count": null,
      "outputs": []
    },
    {
      "cell_type": "code",
      "source": [
        "merged_books"
      ],
      "metadata": {
        "id": "cxxQ30Da-N_8"
      },
      "execution_count": null,
      "outputs": []
    },
    {
      "cell_type": "markdown",
      "metadata": {
        "id": "4SYRYhCDezho"
      },
      "source": [
        "### 7. For each book in `goodbooks`, compute the list of its authors. Assuming that the number of reviews with a text (column `work_text_reviews_count`) is split equally among all authors, find for each authors the total number of reviews with a text. We will call this quantity the *shared number of reviews with a text*."
      ]
    },
    {
      "cell_type": "code",
      "source": [
        "authors = goodBooks[goodBooks.duplicated(['authors'])==False]"
      ],
      "metadata": {
        "id": "UrHxU6vpFYfa"
      },
      "execution_count": null,
      "outputs": []
    },
    {
      "cell_type": "code",
      "source": [
        "def remove(string):\n",
        "    return \" \".join(string.split())"
      ],
      "metadata": {
        "id": "X1RVr1mUfuRf"
      },
      "execution_count": null,
      "outputs": []
    },
    {
      "cell_type": "code",
      "source": [
        "myDict= {}\n",
        "reg = 'a-zA-Z.\\s\\-\\u00A1-\\u00FF'\n",
        "re_enum = re.compile('(['+reg+']+),?', re.UNICODE)\n",
        "temp5 = authors.set_index('authors')['work_text_reviews_count'].to_dict()\n",
        "for key,value in temp5.items():\n",
        "  occ = re_enum.findall(key)\n",
        "  if occ:\n",
        "    j=0\n",
        "    for j in range(len(occ)):\n",
        "      if remove(occ[j]) not in myDict:\n",
        "        myDict[remove(occ[j])] = int(value/len(occ))\n",
        "      else:\n",
        "        myDict[remove(occ[j])] = myDict[remove(occ[j])] + int(value/len(occ))"
      ],
      "metadata": {
        "id": "0G_3Ztd9vbeF"
      },
      "execution_count": null,
      "outputs": []
    },
    {
      "cell_type": "code",
      "source": [
        "shared_number_of_reviews_with_text = pd.DataFrame(myDict.items(), columns=['Autori', 'shared_number_of_reviews_with_text'])"
      ],
      "metadata": {
        "id": "yfXTy8l_h1UE"
      },
      "execution_count": null,
      "outputs": []
    },
    {
      "cell_type": "code",
      "source": [
        "shared_number_of_reviews_with_text"
      ],
      "metadata": {
        "id": "Ew11z-fowTpX"
      },
      "execution_count": null,
      "outputs": []
    },
    {
      "cell_type": "code",
      "source": [
        "#ATTENZIONE TUTTO IL CODICE SOPRA FUNZIONA MA \n",
        "#RIGA 'George Orwell, Erich Fromm, CelÃ¢l Ãster'\n",
        "#viene divisa male in \n",
        "#['George Orwell', ' Erich Fromm', ' CelÃ¢l Ã', 'ster']\n",
        "\n",
        "reg = 'a-zA-Z.\\s\\-\\u00A1-\\u00FF'\n",
        "re_enum = re.compile('(['+reg+']+),?', re.UNICODE)\n",
        "occ = re_enum.findall('George Orwell, Erich Fromm, CelÃ¢l Ãster')\n",
        "print(occ)"
      ],
      "metadata": {
        "id": "GEZtIQQVIhBV"
      },
      "execution_count": null,
      "outputs": []
    },
    {
      "cell_type": "markdown",
      "metadata": {
        "id": "SQ5mfIfNezho"
      },
      "source": [
        "### 8. For each year of publication, determine the author that has the largest value of the shared number of reviews with a text."
      ]
    },
    {
      "cell_type": "code",
      "source": [
        "myDict2= {}\n",
        "reg = 'a-zA-Z.\\s\\-\\u00A1-\\u00FF'\n",
        "re_enum = re.compile('(['+reg+']+),?', re.UNICODE)\n",
        "temp6 = authors.set_index('authors')['original_publication_year'].to_dict()\n",
        "for key,value in temp6.items():\n",
        "  occ = re_enum.findall(key)\n",
        "  if occ:\n",
        "    j=0\n",
        "    for j in range(len(occ)):\n",
        "      if value not in myDict2:\n",
        "        myDict2[value] = remove(occ[j])\n",
        "      else:\n",
        "        myDict2[value] = myDict2[value]+','+remove(occ[j])"
      ],
      "metadata": {
        "id": "DksCDUfEq-Vy"
      },
      "execution_count": null,
      "outputs": []
    },
    {
      "cell_type": "code",
      "source": [
        "myDict3 = {}\n",
        "for anno,aut in myDict2.items():\n",
        "  for autore,review in myDict.items():\n",
        "    if re.search(autore,aut):\n",
        "      if anno not in myDict3:\n",
        "        myDict3[anno] = {'autore':autore,'review':review}\n",
        "      else:\n",
        "        if myDict3[anno]['review'] <= review:\n",
        "          myDict3[anno]['review'] = review\n",
        "year_reviews =pd.DataFrame.from_dict(myDict3,orient='index')\n",
        "year_reviews.index.name = 'anno'\n",
        "year_reviews.reset_index(level=['anno'])"
      ],
      "metadata": {
        "id": "weh4AiZ4vy5u"
      },
      "execution_count": null,
      "outputs": []
    },
    {
      "cell_type": "markdown",
      "metadata": {
        "id": "tMuNsKiNezhp"
      },
      "source": [
        "### 9. Assuming that there are no errors in the ISBN fields, find the books in both datasets, and compute the difference of average rating according to the ratings and the goodratings datasets"
      ]
    },
    {
      "cell_type": "code",
      "source": [
        "libri = pd.DataFrame({'Rating_books':joinBookRatings.groupby([\"ISBN\"])['Book-Rating'].mean()}).reset_index()\n",
        "good_libri = pd.DataFrame({'Rating_books':goodBooks.groupby(['isbn',\"isbn13\"])['average_rating'].mean()}).reset_index()\n",
        "isbn_comuni = good_libri[good_libri.isbn.isin(libri.ISBN)]['isbn'].to_list()"
      ],
      "metadata": {
        "id": "Jnmur0t4Vj94"
      },
      "execution_count": null,
      "outputs": []
    },
    {
      "cell_type": "code",
      "source": [
        "row_list = []\n",
        "for lib in isbn_comuni:\n",
        "  val1 = libri[libri['ISBN']== lib]['Rating_books'].values[0]\n",
        "  val2 = good_libri[good_libri['isbn']==lib]['Rating_books'].values[0]\n",
        "  dict1 = {\n",
        "      'isbn'             : lib,\n",
        "      'Rating_books'     : val1,\n",
        "      'Rating_goodbooks' : val2,\n",
        "      'Difference'       : abs(val2-val1)\n",
        "  }\n",
        "  row_list.append(dict1)\n",
        "df4 = pd.DataFrame(row_list, columns=['isbn','Rating_books','Rating_goodbooks','Difference'])\n",
        "df4"
      ],
      "metadata": {
        "id": "Iy7llyXI6ZEg"
      },
      "execution_count": null,
      "outputs": []
    },
    {
      "cell_type": "markdown",
      "metadata": {
        "id": "9ZJgi2yFezhp"
      },
      "source": [
        "### 10. Split the users dataset according to the age. One dataset contains the users with unknown age, one with age 0-14, one with age 15-24, one with age 25-34, and so on."
      ]
    },
    {
      "cell_type": "code",
      "source": [
        "users[users['Age'] == users['Age'].max()]"
      ],
      "metadata": {
        "id": "hbtPx51sABm4"
      },
      "execution_count": null,
      "outputs": []
    },
    {
      "cell_type": "code",
      "source": [
        "group_0_14 = users[users['Age']<15]\n",
        "var_holder = {}\n",
        "for i in range(1,24):\n",
        "  var_holder[\"group_\"+ str(i)+\"5_\"+str(i+1)+\"4\"] = users[(users['Age']>int(str(i)+\"4\")) & (users['Age']<int(str(i+1)+\"5\"))]\n",
        "locals().update(var_holder)\n",
        "#sono in dataframe con nome tipo group_25_34"
      ],
      "metadata": {
        "id": "gl5_AktJ3ffa"
      },
      "execution_count": null,
      "outputs": []
    },
    {
      "cell_type": "markdown",
      "metadata": {
        "id": "3QM90Vciezhp"
      },
      "source": [
        "### 11. Find the books that appear only in the goodbooks datasets."
      ]
    },
    {
      "cell_type": "code",
      "source": [
        "solo_in_goodbooks = goodBooks[~good_libri.isbn.isin(libri.ISBN)]"
      ],
      "metadata": {
        "id": "t3GqcJCOMQl0"
      },
      "execution_count": null,
      "outputs": []
    },
    {
      "cell_type": "code",
      "source": [
        "solo_in_goodbooks"
      ],
      "metadata": {
        "id": "_xwyCfU_NoJE"
      },
      "execution_count": null,
      "outputs": []
    },
    {
      "cell_type": "markdown",
      "metadata": {
        "id": "jtAKgEfWezhp"
      },
      "source": [
        "### 12. Assuming that each pair (author, title) identifies a book, for each book find the number of times it appears in the books dataset. Which books appear the most times?"
      ]
    },
    {
      "cell_type": "code",
      "source": [
        "count_book = pd.DataFrame({'count': books.groupby( [ \"Book-Title\", \"Book-Author\"] ).size()}).reset_index()\n",
        "count_book[count_book['count'] == count_book['count'].max()]"
      ],
      "metadata": {
        "id": "EEe0YtIdHoYm"
      },
      "execution_count": null,
      "outputs": []
    },
    {
      "cell_type": "code",
      "source": [
        "count_book"
      ],
      "metadata": {
        "id": "E4IGvboIIdq2"
      },
      "execution_count": null,
      "outputs": []
    },
    {
      "cell_type": "markdown",
      "metadata": {
        "id": "wVcuxOTBezhq"
      },
      "source": [
        "### 13. Find the author with the highest average rating according to the goodbooks datasets."
      ]
    },
    {
      "cell_type": "code",
      "source": [
        "myDict5= {}\n",
        "reg = 'a-zA-Z.\\s\\-\\u00A1-\\u00FF'\n",
        "re_enum = re.compile('(['+reg+']+),?', re.UNICODE)\n",
        "temp5 = authors.set_index('authors')['average_rating'].to_dict()\n",
        "for key,value in temp5.items():\n",
        "  occ = re_enum.findall(key)\n",
        "  if occ:\n",
        "    for j in range(len(occ)):\n",
        "      if remove(occ[j]) not in myDict5:\n",
        "        myDict5[remove(occ[j])] = {'rating':value,'num_occ':len(occ)}\n",
        "      else:\n",
        "        myDict5[remove(occ[j])] = {'rating':myDict5[remove(occ[j])]['rating']+value,'num_occ':len(occ)}"
      ],
      "metadata": {
        "id": "BSZ7QUV2ORIC"
      },
      "execution_count": null,
      "outputs": []
    },
    {
      "cell_type": "code",
      "source": [
        "author_max_rating = pd.DataFrame(myDict5.items(), columns=['Autori', 'rating_plus_count'])\n",
        "normalized = pd.json_normalize(author_max_rating['rating_plus_count'])\n",
        "\n",
        "author_max_rating = author_max_rating.join(normalized).drop(columns=['rating_plus_count'])\n",
        "author_max_rating['rating']= author_max_rating['rating']/author_max_rating['num_occ']\n",
        "author_max_rating.drop('num_occ', axis=1, inplace=True)\n",
        "author_max_rating"
      ],
      "metadata": {
        "id": "JP2C8qxdVUt-"
      },
      "execution_count": null,
      "outputs": []
    },
    {
      "cell_type": "code",
      "source": [
        "author_max_rating.loc[author_max_rating['rating'].idxmax()]"
      ],
      "metadata": {
        "id": "mriflHVHOzXJ"
      },
      "execution_count": null,
      "outputs": []
    }
  ],
  "metadata": {
    "kernelspec": {
      "display_name": "Python 3 (ipykernel)",
      "language": "python",
      "name": "python3"
    },
    "language_info": {
      "codemirror_mode": {
        "name": "ipython",
        "version": 3
      },
      "file_extension": ".py",
      "mimetype": "text/x-python",
      "name": "python",
      "nbconvert_exporter": "python",
      "pygments_lexer": "ipython3",
      "version": "3.9.7"
    },
    "colab": {
      "name": "progetto-2021.ipynb",
      "provenance": [],
      "collapsed_sections": [
        "Q6dGRbORezhl"
      ]
    }
  },
  "nbformat": 4,
  "nbformat_minor": 0
}